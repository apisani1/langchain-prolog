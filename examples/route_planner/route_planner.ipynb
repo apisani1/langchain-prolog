{
 "cells": [
  {
   "cell_type": "markdown",
   "id": "02e46451",
   "metadata": {},
   "source": [
    "# Route Planner: A Prolog Application with LangChain Integration\n",
    "\n",
    "## Overview\n",
    "The `routes.pl` application is a travel route planning system implemented in Prolog that demonstrates logical reasoning capabilities integrated with LangChain. It serves as an example of how Prolog's declarative programming paradigm can enhance LLM applications with powerful reasoning.\n",
    "\n",
    "## Key Features\n",
    "- **Transport Network Modeling:** Intuitively defines connections between cities with various transport types (train, plane, ferry).  \n",
    "- **Route Finding:** Discovers all possible routes between origin and destination cities.  \n",
    "- **Optimization:** Calculates fastest and cheapest routes based on time and cost parameters.  \n",
    "- **Constraint Handling:** Applies constraints like maximum time, maximum cost, and number of connections.  \n",
    "- **Transport Preferences:** Filters routes based on preferred transport types.  \n",
    "- **Comprehensive Query Interface:** Provides predicates for different query types and formats.  \n",
    "\n",
    "## Technical Highlights\n",
    "\n",
    "- Uses Prolog's backtracking to explore all possible routes.  \n",
    "- Implements cycle detection to prevent infinite loops.  \n",
    "- Provides helper predicates for visualizing and analyzing routes.  \n",
    "- Structures data for easy integration with Python.  \n",
    "- Returns results in formats compatible with LangChain interfaces.  \n",
    "\n",
    "## Integration with LangChain\n",
    "When integrated with LangChain or LangGraph, this application enables:\n",
    "\n",
    "- Natural language queries about travel routes.  \n",
    "- Reasoning about optimal travel plans based on constraints.  \n",
    "- Explanations of why certain routes are preferred.  \n",
    "- Step-by-step travel planning with LLM guidance.  "
   ]
  },
  {
   "cell_type": "markdown",
   "id": "60be2d1c",
   "metadata": {},
   "source": [
    "## Setup\n",
    "\n",
    "**Prerequisites**\n",
    "\n",
    "- Python 3.10 or later\n",
    "- SWI-Prolog installed on your system\n",
    "- The following python libraries installed:\n",
    "    - langchain 0.3.0 or later\n",
    "    - janus-swi 1.5.0 or later\n",
    "    - pydantic 0.2.0 or later\n",
    "\n",
    "The Prolog interfase with LangChain can be installed using pip:"
   ]
  },
  {
   "cell_type": "code",
   "execution_count": 1,
   "id": "60f0e3d4",
   "metadata": {},
   "outputs": [],
   "source": [
    "#!pip install langchain-prolog\n",
    "\n",
    "from langchain_prolog import PrologConfig, PrologRunnable, PrologTool"
   ]
  },
  {
   "cell_type": "markdown",
   "id": "4595315c",
   "metadata": {},
   "source": [
    "## Instantiation\n",
    "The most important classes in langchain-prolog are: `PrologConfig`, `PrologRunnable` and `PrologTool` \n",
    "- `PrologConfig` sets the configuration for the Prolog interpreter. The only mandatory field is the path to the Prolog script to be used.\n",
    "- `PrologRunnable.create_schema` defines a Pydantic schema to be used to pass arguments to the Prolog predicates. It is optional, but recomended.\n",
    "- `PrologTool` wraps the Prolog script with the interfase to LangChain/LaqngGraph. I supports all the methods of the `Tool` class and tracing capabilities of LangSmith."
   ]
  },
  {
   "cell_type": "code",
   "execution_count": 2,
   "id": "9b9a2015",
   "metadata": {},
   "outputs": [],
   "source": [
    "schema = PrologRunnable.create_schema('query_route', ['query_type', 'from', 'to', 'options', 'results'])\n",
    "\n",
    "config = PrologConfig(\n",
    "            rules_file='routes.pl',\n",
    "            query_schema=schema,\n",
    "            default_predicate=\"query_route\"\n",
    "        )\n",
    "\n",
    "planner_tool = PrologTool(\n",
    "    prolog_config=config,\n",
    "    name=\"travel_planner\",\n",
    "    description=\"\"\"\n",
    "        Query travel routes using Prolog.\n",
    "        Input can be a query string like 'query_route(all, paris, london,[], Results)'.\n",
    "        You have to specify 3 parameters:\n",
    "            - query_type: can be 'all', 'fastest' or 'cheapest'\n",
    "            - from: the city where the travel starts. Must be all lower case.\n",
    "            - to: the city where the travel ends. Must be all lower case.\n",
    "            - Results: This will be the key for the results\n",
    "        The query will return:\n",
    "            - 'False' if there are no routes availables\n",
    "            - A dictionary with 'Results' as the key and a list ouf possible routes as the value\n",
    "        Do not use quotes.\n",
    "    \"\"\",\n",
    ")"
   ]
  },
  {
   "cell_type": "markdown",
   "id": "6c81e971",
   "metadata": {},
   "source": [
    "## Invocation\n",
    "If a schema is defined, we can pass a dictionary using the names of the parameters in the schema as the keys in the dictionary. The values can represent Prolog variables (uppercase first letter) or strings (lower case first letter). A `None` value is interpreted as a variable and replaced with the key capitalized:"
   ]
  },
  {
   "cell_type": "code",
   "execution_count": 3,
   "id": "cbc4f2d7",
   "metadata": {},
   "outputs": [
    {
     "data": {
      "text/plain": [
       "[{'Results': [{'time': 11,\n",
       "    'transport': [{'time': 2, 'type': 'plane', 'cost': 180},\n",
       "     {'time': 2, 'type': 'plane', 'cost': 140},\n",
       "     {'time': 3, 'type': 'train', 'cost': 80},\n",
       "     {'time': 4, 'type': 'train', 'cost': 90}],\n",
       "    'route': ['paris', 'rome', 'barcelona', 'madrid', 'lisbon'],\n",
       "    'cost': 490},\n",
       "   {'time': 8.5,\n",
       "    'transport': [{'time': 1.5, 'type': 'plane', 'cost': 120},\n",
       "     {'time': 3, 'type': 'train', 'cost': 80},\n",
       "     {'time': 4, 'type': 'train', 'cost': 90}],\n",
       "    'route': ['paris', 'barcelona', 'madrid', 'lisbon'],\n",
       "    'cost': 290},\n",
       "   {'time': 6,\n",
       "    'transport': [{'time': 2, 'type': 'train', 'cost': 150},\n",
       "     {'time': 4, 'type': 'train', 'cost': 90}],\n",
       "    'route': ['paris', 'madrid', 'lisbon'],\n",
       "    'cost': 240}]}]"
      ]
     },
     "execution_count": 3,
     "metadata": {},
     "output_type": "execute_result"
    }
   ],
   "source": [
    "planner_tool.invoke(\n",
    "    {\n",
    "        'query_type': 'all', \n",
    "        'from': 'paris',\n",
    "        'to': 'lisbon',\n",
    "        'options': [],\n",
    "        'results': None,\n",
    "    }\n",
    ")"
   ]
  },
  {
   "cell_type": "markdown",
   "id": "c3363f7d",
   "metadata": {},
   "source": [
    "### Using an LLM and function calling\n",
    "\n",
    "Yor can use any LangChain chat model that supports tool calling."
   ]
  },
  {
   "cell_type": "code",
   "execution_count": 4,
   "id": "68709aa2",
   "metadata": {},
   "outputs": [],
   "source": [
    "#!pip install python-dotenv\n",
    "\n",
    "from dotenv import find_dotenv\n",
    "from dotenv import load_dotenv\n",
    "\n",
    "load_dotenv(find_dotenv(), override=True)\n",
    "\n",
    "#!pip install langchain-openai\n",
    "\n",
    "from langchain_openai import ChatOpenAI\n",
    "from langchain_core.messages import HumanMessage"
   ]
  },
  {
   "cell_type": "markdown",
   "id": "f38f14bf",
   "metadata": {},
   "source": [
    "To use the Prolog tool, bind it to the LLM model:"
   ]
  },
  {
   "cell_type": "code",
   "execution_count": 5,
   "id": "3ce4479d",
   "metadata": {},
   "outputs": [],
   "source": [
    "llm = ChatOpenAI(model=\"gpt-4o-mini\")\n",
    "llm_with_tools = llm.bind_tools([planner_tool])"
   ]
  },
  {
   "cell_type": "markdown",
   "id": "dcdaef42",
   "metadata": {},
   "source": [
    "and then query the model:"
   ]
  },
  {
   "cell_type": "code",
   "execution_count": 6,
   "id": "86d79c1c",
   "metadata": {},
   "outputs": [
    {
     "name": "stdout",
     "output_type": "stream",
     "text": [
      "Here are your travel options from Paris to Lisbon:\n",
      "\n",
      "1. **Route**: Paris → Rome → Barcelona → Madrid → Lisbon\n",
      "   - **Total Time**: 11 hours\n",
      "   - **Transport Options**:\n",
      "     - Plane: 2 hours, Cost: €180\n",
      "     - Plane: 2 hours, Cost: €140\n",
      "     - Train: 3 hours, Cost: €80\n",
      "     - Train: 4 hours, Cost: €90\n",
      "   - **Total Cost**: €490\n",
      "\n",
      "2. **Route**: Paris → Barcelona → Madrid → Lisbon\n",
      "   - **Total Time**: 8.5 hours\n",
      "   - **Transport Options**:\n",
      "     - Plane: 1.5 hours, Cost: €120\n",
      "     - Train: 3 hours, Cost: €80\n",
      "     - Train: 4 hours, Cost: €90\n",
      "   - **Total Cost**: €290\n",
      "\n",
      "3. **Route**: Paris → Madrid → Lisbon\n",
      "   - **Total Time**: 6 hours\n",
      "   - **Transport Options**:\n",
      "     - Train: 2 hours, Cost: €150\n",
      "     - Train: 4 hours, Cost: €90\n",
      "   - **Total Cost**: €240\n",
      "\n",
      "Choose the option that best fits your schedule and budget!\n"
     ]
    }
   ],
   "source": [
    "query = \"I want to tavel from Paris to Lisbon. What are my options?\"\n",
    "\n",
    "tries = 1\n",
    "while tries <= 10:\n",
    "    try:\n",
    "        \n",
    "        # The user query is pass in a list of messages\n",
    "        messages = [HumanMessage(query)]\n",
    "        response = llm_with_tools.invoke(messages)\n",
    "        \n",
    "         # The LLM will respond with a tool call request if needed\n",
    "        if hasattr(response, 'tool_calls'):\n",
    "            messages.append(response)\n",
    "            \n",
    "            # The tool takes this request and queries the Prolog database:\n",
    "            tool_msg = planner_tool.invoke(response.tool_calls[0])\n",
    "            messages.append(tool_msg)\n",
    "            \n",
    "            #The tool returns a list with all the solutions for the query\n",
    "            response = llm_with_tools.invoke(messages)\n",
    "            \n",
    "        print(response.content)\n",
    "        break\n",
    "        \n",
    "    except:\n",
    "        tries += 1\n",
    "        if tries > 10:\n",
    "            print(\"Could not get an answer\")"
   ]
  },
  {
   "cell_type": "markdown",
   "id": "ccc02700",
   "metadata": {},
   "source": [
    "## Chaining\n",
    "\n",
    "### Using an Agent\n",
    "To use a Prolog tool with an agent, pass it to the agent's constructor:"
   ]
  },
  {
   "cell_type": "code",
   "execution_count": 7,
   "id": "2ab5bcbc",
   "metadata": {},
   "outputs": [],
   "source": [
    "#!pip install langgraph \n",
    "\n",
    "from langgraph.prebuilt import create_react_agent\n",
    "\n",
    "agent_executor = create_react_agent(llm, [planner_tool])"
   ]
  },
  {
   "cell_type": "markdown",
   "id": "389f1e86",
   "metadata": {},
   "source": [
    "The agent takes the query and use the Prolog tool if needed. Then the agent receives​ the tool response and generates the answer:"
   ]
  },
  {
   "cell_type": "code",
   "execution_count": 8,
   "id": "67de95df",
   "metadata": {},
   "outputs": [
    {
     "name": "stdout",
     "output_type": "stream",
     "text": [
      "==================================\u001b[1m Ai Message \u001b[0m==================================\n",
      "\n",
      "Here are your travel options from Paris to Lisbon:\n",
      "\n",
      "1. **Route**: Paris → Rome → Barcelona → Madrid → Lisbon\n",
      "   - **Total Time**: 11 hours\n",
      "   - **Transport Options**:\n",
      "     - Plane: 2 hours, Cost: €180\n",
      "     - Plane: 2 hours, Cost: €140\n",
      "     - Train: 3 hours, Cost: €80\n",
      "     - Train: 4 hours, Cost: €90\n",
      "   - **Total Cost**: €490\n",
      "\n",
      "2. **Route**: Paris → Barcelona → Madrid → Lisbon\n",
      "   - **Total Time**: 8.5 hours\n",
      "   - **Transport Options**:\n",
      "     - Plane: 1.5 hours, Cost: €120\n",
      "     - Train: 3 hours, Cost: €80\n",
      "     - Train: 4 hours, Cost: €90\n",
      "   - **Total Cost**: €290\n",
      "\n",
      "3. **Route**: Paris → Madrid → Lisbon\n",
      "   - **Total Time**: 6 hours\n",
      "   - **Transport Options**:\n",
      "     - Train: 2 hours, Cost: €150\n",
      "     - Train: 4 hours, Cost: €90\n",
      "   - **Total Cost**: €240\n",
      "\n",
      "You can choose any of these options based on your preference for time and cost!\n"
     ]
    }
   ],
   "source": [
    "verbose = False\n",
    "tries = 1\n",
    "while tries <= 10:\n",
    "    try:\n",
    "        \n",
    "        # The user query is pass as a dictionary with the list of messages\n",
    "        inputs = {\"messages\": [(\"human\", query)]}\n",
    "    \n",
    "        if verbose:\n",
    "            for step in agent_executor.stream(inputs, stream_mode=\"values\"):\n",
    "                message = step[\"messages\"][-1]\n",
    "                message.pretty_print()\n",
    "        \n",
    "        else:\n",
    "            outputs = agent_executor.invoke(inputs)\n",
    "            results = outputs[\"messages\"][-1]\n",
    "            results.pretty_print()\n",
    "            \n",
    "        break\n",
    "        \n",
    "    except:\n",
    "        tries += 1\n",
    "        if tries > 10:\n",
    "            print(\"Could not get an answer\")"
   ]
  },
  {
   "cell_type": "markdown",
   "id": "7795ebc6",
   "metadata": {},
   "source": [
    "## API reference\n",
    "\n",
    "See https://langchain-prolog.readthedocs.io/en/latest/modules.html for detail."
   ]
  },
  {
   "cell_type": "code",
   "execution_count": null,
   "id": "a5d6a421",
   "metadata": {},
   "outputs": [],
   "source": []
  }
 ],
 "metadata": {
  "kernelspec": {
   "display_name": "Python 3.10 (test-again)",
   "language": "python",
   "name": "test-again"
  },
  "language_info": {
   "codemirror_mode": {
    "name": "ipython",
    "version": 3
   },
   "file_extension": ".py",
   "mimetype": "text/x-python",
   "name": "python",
   "nbconvert_exporter": "python",
   "pygments_lexer": "ipython3",
   "version": "3.10.16"
  }
 },
 "nbformat": 4,
 "nbformat_minor": 5
}
