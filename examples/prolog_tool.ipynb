{
 "cells": [
  {
   "cell_type": "markdown",
   "id": "bf0c1ab2",
   "metadata": {},
   "source": [
    "## Prolog Tool\n",
    "\n",
    "The PrologTool class allows the generation of langchain tools that use Prolog rules to generate answers.\n",
    "\n",
    "Let's use the following Prolog rules in the file family.pl:\n",
    "\n",
    "parent(john, bianca, mary).\\\n",
    "parent(john, bianca, michael).\\\n",
    "parent(peter, patricia, jennifer).\\\n",
    "partner(X, Y) :- parent(X, Y, _)."
   ]
  },
  {
   "cell_type": "markdown",
   "id": "b50700d4",
   "metadata": {},
   "source": [
    "### Instantiation\n",
    "\n",
    "The most important classes in langchain-prolog are: `PrologConfig`, `PrologRunnable` and `PrologTool`\n",
    "- `PrologConfig` sets the configuration for the Prolog interpreter. The only mandatory field is the path to the Prolog script to be used.\n",
    "- `PrologRunnable.create_schema` defines a Pydantic schema to be used to pass arguments to the Prolog predicates. It is optional, but recomended.\n",
    "- `PrologTool` wraps the Prolog script with the interfase to LangChain/LangGraph. I supports all the methods of the `Tool` class and tracing capabilities of LangSmith."
   ]
  },
  {
   "cell_type": "code",
   "execution_count": 1,
   "id": "60f0e3d4",
   "metadata": {},
   "outputs": [],
   "source": [
    "#!pip install langchain-prolog\n",
    "\n",
    "from langchain_prolog import PrologConfig, PrologRunnable, PrologTool\n",
    "\n",
    "TEST_SCRIPT = \"family.pl\""
   ]
  },
  {
   "cell_type": "code",
   "execution_count": 2,
   "id": "9b9a2015",
   "metadata": {},
   "outputs": [],
   "source": [
    "schema = PrologRunnable.create_schema(\"parent\", [\"man\", \"woman\", \"child\"])\n",
    "config = PrologConfig(\n",
    "    rules_file=TEST_SCRIPT,\n",
    "    query_schema=schema,\n",
    ")\n",
    "prolog_tool = PrologTool(\n",
    "    prolog_config=config,\n",
    "    name=\"family_query\",\n",
    "    description=\"\"\"\n",
    "        Query family relationships using Prolog.\n",
    "        parent(X, Y, Z) implies only that Z is a child of X and Y.\n",
    "        Input must be a dictionary like:\n",
    "        {\n",
    "            'man': 'richard',\n",
    "            'woman': 'valery',\n",
    "            'child': None,\n",
    "        \n",
    "        }\n",
    "        Use 'None' to indicate a variable that need to be instantiated by Prolog\n",
    "        The query will return:\n",
    "            - 'True': if the relationship 'child' is a child of 'men' and 'women' holds.\n",
    "            - 'False' if the relationship 'child' is a child of 'man' and 'woman' does not holds.\n",
    "            - A list of dictionaries with all the answers to the Prolog query\n",
    "        Do not use double quotes.\n",
    "    \"\"\",\n",
    ")"
   ]
  },
  {
   "cell_type": "markdown",
   "id": "c3363f7d",
   "metadata": {},
   "source": [
    "### Invocation\n",
    "\n",
    "If a schema is defined, we can pass a dictionary using the names of the parameters in the schema as the keys in the dictionary. The values can represent Prolog variables (uppercase first letter) or strings (lower case first letter). A `None` value is interpreted as a variable and replaced with the key capitalized:"
   ]
  },
  {
   "cell_type": "code",
   "execution_count": 3,
   "id": "270f70cf",
   "metadata": {},
   "outputs": [
    {
     "data": {
      "text/plain": [
       "[{'Woman': 'bianca', 'Child': 'mary'}, {'Woman': 'bianca', 'Child': 'michael'}]"
      ]
     },
     "execution_count": 3,
     "metadata": {},
     "output_type": "execute_result"
    }
   ],
   "source": [
    "prolog_tool.invoke(\n",
    "    {\n",
    "        'man': 'john',\n",
    "        'woman': None,\n",
    "        'child': None\n",
    "    }\n",
    ")"
   ]
  },
  {
   "cell_type": "markdown",
   "id": "900f8bca",
   "metadata": {},
   "source": [
    "There are three diferent ways to use a PrologTool to query Prolog:"
   ]
  },
  {
   "cell_type": "markdown",
   "id": "681027f6",
   "metadata": {},
   "source": [
    "### 1) Using a Prolog tool with an LLM and function calling"
   ]
  },
  {
   "cell_type": "code",
   "execution_count": 4,
   "id": "68709aa2",
   "metadata": {},
   "outputs": [],
   "source": [
    "#!pip install python-dotenv\n",
    "\n",
    "from dotenv import find_dotenv, load_dotenv\n",
    "\n",
    "load_dotenv(find_dotenv(), override=True)\n",
    "\n",
    "#!pip install langchain langchain-openai\n",
    "\n",
    "from langchain_core.messages import HumanMessage\n",
    "from langchain_openai import ChatOpenAI"
   ]
  },
  {
   "cell_type": "markdown",
   "id": "9d23b2c5",
   "metadata": {},
   "source": [
    "To use the tool, bind it to the LLM model:"
   ]
  },
  {
   "cell_type": "code",
   "execution_count": 5,
   "id": "3ce4479d",
   "metadata": {},
   "outputs": [],
   "source": [
    "llm = ChatOpenAI(model=\"gpt-4o-mini\")\n",
    "llm_with_tools = llm.bind_tools([prolog_tool])"
   ]
  },
  {
   "cell_type": "markdown",
   "id": "74767c7c",
   "metadata": {},
   "source": [
    "and then query the model:"
   ]
  },
  {
   "cell_type": "code",
   "execution_count": 6,
   "id": "affb960e",
   "metadata": {},
   "outputs": [],
   "source": [
    "query = \"Who are John's children?\"\n",
    "messages = [HumanMessage(query)]\n",
    "response = llm_with_tools.invoke(messages)"
   ]
  },
  {
   "cell_type": "markdown",
   "id": "50154355",
   "metadata": {},
   "source": [
    "The LLM will respond with a tool call request:"
   ]
  },
  {
   "cell_type": "code",
   "execution_count": 7,
   "id": "5676fe7e",
   "metadata": {},
   "outputs": [
    {
     "data": {
      "text/plain": [
       "{'name': 'family_query',\n",
       " 'args': {'man': 'john', 'woman': None, 'child': None},\n",
       " 'id': 'call_WshVu3c3rnqk1muTLUe3gBdp',\n",
       " 'type': 'tool_call'}"
      ]
     },
     "execution_count": 7,
     "metadata": {},
     "output_type": "execute_result"
    }
   ],
   "source": [
    "messages.append(response)\n",
    "response.tool_calls[0]"
   ]
  },
  {
   "cell_type": "markdown",
   "id": "f774d582",
   "metadata": {},
   "source": [
    "The tool takes this request and queries the Prolog database:"
   ]
  },
  {
   "cell_type": "code",
   "execution_count": 8,
   "id": "66516c4e",
   "metadata": {},
   "outputs": [],
   "source": [
    "tool_msg = prolog_tool.invoke(response.tool_calls[0])"
   ]
  },
  {
   "cell_type": "markdown",
   "id": "0fca8ec2",
   "metadata": {},
   "source": [
    "The tool returns a list with all the solutions for the query:"
   ]
  },
  {
   "cell_type": "code",
   "execution_count": 9,
   "id": "33f779bc",
   "metadata": {},
   "outputs": [
    {
     "data": {
      "text/plain": [
       "ToolMessage(content='[{\"Woman\": \"bianca\", \"Child\": \"mary\"}, {\"Woman\": \"bianca\", \"Child\": \"michael\"}]', name='family_query', tool_call_id='call_WshVu3c3rnqk1muTLUe3gBdp')"
      ]
     },
     "execution_count": 9,
     "metadata": {},
     "output_type": "execute_result"
    }
   ],
   "source": [
    "messages.append(tool_msg)\n",
    "tool_msg"
   ]
  },
  {
   "cell_type": "markdown",
   "id": "b520745e",
   "metadata": {},
   "source": [
    "That we then pass to the LLM, and the LLM answers the original query using the tool response:"
   ]
  },
  {
   "cell_type": "code",
   "execution_count": 10,
   "id": "f997186a",
   "metadata": {},
   "outputs": [
    {
     "name": "stdout",
     "output_type": "stream",
     "text": [
      "John has two children: Mary and Michael, with Bianca.\n"
     ]
    }
   ],
   "source": [
    "answer = llm_with_tools.invoke(messages)\n",
    "print(answer.content)"
   ]
  },
  {
   "cell_type": "markdown",
   "id": "ef3c5ceb",
   "metadata": {},
   "source": [
    "### 2) Using a Prolog tool with a LangChain agent\n",
    "To use the prolog tool with an agent, pass it to the agent's constructor:"
   ]
  },
  {
   "cell_type": "code",
   "execution_count": 11,
   "id": "3c6bc051",
   "metadata": {},
   "outputs": [],
   "source": [
    "from langchain_core.prompts import ChatPromptTemplate\n",
    "from langchain.agents import create_tool_calling_agent, AgentExecutor\n",
    "\n",
    "llm = ChatOpenAI(model=\"gpt-4o-mini\")\n",
    "prompt = ChatPromptTemplate.from_messages(\n",
    "    [\n",
    "        (\"system\", \"You are a helpful assistant\"),\n",
    "        (\"human\", \"{input}\"),\n",
    "        (\"placeholder\", \"{agent_scratchpad}\"),\n",
    "    ]\n",
    ")\n",
    "tools = [prolog_tool]\n",
    "agent = create_tool_calling_agent(llm, tools, prompt)\n",
    "agent_executor = AgentExecutor(agent=agent, tools=tools)"
   ]
  },
  {
   "cell_type": "markdown",
   "id": "e6348272",
   "metadata": {},
   "source": [
    "The agent takes the query and use the Prolog tool if needed:"
   ]
  },
  {
   "cell_type": "code",
   "execution_count": 12,
   "id": "57bccc90",
   "metadata": {},
   "outputs": [
    {
     "name": "stdout",
     "output_type": "stream",
     "text": [
      "John has two children: Mary and Michael. Their mother is Bianca.\n"
     ]
    }
   ],
   "source": [
    "answer = agent_executor.invoke({\"input\": \"Who are John's children?\"})\n",
    "print(answer[\"output\"])"
   ]
  },
  {
   "cell_type": "markdown",
   "id": "0f7ce937",
   "metadata": {},
   "source": [
    "### 3) Using a Prolog tool with a LangGrap agent\n",
    "\n",
    "To use the prolog tool with an agent, pass it to the agent's constructor:"
   ]
  },
  {
   "cell_type": "code",
   "execution_count": 13,
   "id": "8957d420",
   "metadata": {},
   "outputs": [],
   "source": [
    "#!pip install langgraph \n",
    "\n",
    "from langgraph.prebuilt import create_react_agent\n",
    "\n",
    "lg_agent = create_react_agent(llm, [prolog_tool])"
   ]
  },
  {
   "cell_type": "markdown",
   "id": "3e866895",
   "metadata": {},
   "source": [
    "The agent takes the query and use the Prolog tool if needed:"
   ]
  },
  {
   "cell_type": "code",
   "execution_count": 14,
   "id": "acad8d33",
   "metadata": {
    "scrolled": true
   },
   "outputs": [],
   "source": [
    "messages =lg_agent.invoke({\"messages\": [(\"human\", query)]})"
   ]
  },
  {
   "cell_type": "markdown",
   "id": "92e71ffa",
   "metadata": {},
   "source": [
    "Then the agent receives​ the tool response and generates the answer:"
   ]
  },
  {
   "cell_type": "code",
   "execution_count": 15,
   "id": "36a464f4",
   "metadata": {},
   "outputs": [
    {
     "name": "stdout",
     "output_type": "stream",
     "text": [
      "==================================\u001b[1m Ai Message \u001b[0m==================================\n",
      "\n",
      "John has two children: Mary and Michael, with Bianca as their mother.\n"
     ]
    }
   ],
   "source": [
    "messages[\"messages\"][-1].pretty_print()"
   ]
  },
  {
   "cell_type": "markdown",
   "id": "baee74e3",
   "metadata": {},
   "source": [
    "### API reference\n",
    "\n",
    "See https://langchain-prolog.readthedocs.io/en/latest/modules.html for detail."
   ]
  },
  {
   "cell_type": "code",
   "execution_count": null,
   "id": "a95afa82",
   "metadata": {},
   "outputs": [],
   "source": []
  }
 ],
 "metadata": {
  "kernelspec": {
   "display_name": "Python 3 (ipykernel)",
   "language": "python",
   "name": "python3"
  },
  "language_info": {
   "codemirror_mode": {
    "name": "ipython",
    "version": 3
   },
   "file_extension": ".py",
   "mimetype": "text/x-python",
   "name": "python",
   "nbconvert_exporter": "python",
   "pygments_lexer": "ipython3",
   "version": "3.10.11"
  }
 },
 "nbformat": 4,
 "nbformat_minor": 5
}
