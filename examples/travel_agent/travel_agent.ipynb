{
 "cells": [
  {
   "cell_type": "markdown",
   "id": "02e46451",
   "metadata": {},
   "source": [
    "## Travel Agent Tool"
   ]
  },
  {
   "cell_type": "code",
   "execution_count": 1,
   "id": "60f0e3d4",
   "metadata": {},
   "outputs": [],
   "source": [
    "#!pip install langchain-prolog\n",
    "\n",
    "from langchain_prolog import PrologConfig, PrologRunnable, PrologTool"
   ]
  },
  {
   "cell_type": "code",
   "execution_count": 2,
   "id": "9b9a2015",
   "metadata": {},
   "outputs": [],
   "source": [
    "schema = PrologRunnable.create_schema('query_route', ['query_type', 'from', 'to', 'options', 'results'])\n",
    "\n",
    "config = PrologConfig(\n",
    "            rules_file='routes.pl',\n",
    "            query_schema=schema,\n",
    "            default_predicate=\"query_route\"\n",
    "        )\n",
    "\n",
    "planner_tool = PrologTool(\n",
    "    prolog_config=config,\n",
    "    name=\"travel_planner\",\n",
    "    description=\"\"\"\n",
    "        Query travel routes using Prolog.\n",
    "        Input can be a query string like 'query_route(all, paris, london,[], Results)'.\n",
    "        You have to specify 3 parameters:\n",
    "            - query_type: can be 'all', 'fastest' or 'cheapest'\n",
    "            - from: the city where the travel starts. Must be all lower case.\n",
    "            - to: the city where the travel ends. Must be all lower case.\n",
    "            - Results: This will be the key for the results\n",
    "        The query will return:\n",
    "            - 'False' if there are no routes availables\n",
    "            - A dictionary with 'Results' as the key and a list ouf possible routes as the value\n",
    "        Do not use quotes.\n",
    "    \"\"\",\n",
    ")"
   ]
  },
  {
   "cell_type": "code",
   "execution_count": 3,
   "id": "cbc4f2d7",
   "metadata": {},
   "outputs": [
    {
     "data": {
      "text/plain": [
       "[{'Results': [{'time': 11,\n",
       "    'transport': [{'time': 2, 'type': 'plane', 'cost': 180},\n",
       "     {'time': 2, 'type': 'plane', 'cost': 140},\n",
       "     {'time': 3, 'type': 'train', 'cost': 80},\n",
       "     {'time': 4, 'type': 'train', 'cost': 90}],\n",
       "    'route': ['paris', 'rome', 'barcelona', 'madrid', 'lisbon'],\n",
       "    'cost': 490},\n",
       "   {'time': 8.5,\n",
       "    'transport': [{'time': 1.5, 'type': 'plane', 'cost': 120},\n",
       "     {'time': 3, 'type': 'train', 'cost': 80},\n",
       "     {'time': 4, 'type': 'train', 'cost': 90}],\n",
       "    'route': ['paris', 'barcelona', 'madrid', 'lisbon'],\n",
       "    'cost': 290},\n",
       "   {'time': 6,\n",
       "    'transport': [{'time': 2, 'type': 'train', 'cost': 150},\n",
       "     {'time': 4, 'type': 'train', 'cost': 90}],\n",
       "    'route': ['paris', 'madrid', 'lisbon'],\n",
       "    'cost': 240}]}]"
      ]
     },
     "execution_count": 3,
     "metadata": {},
     "output_type": "execute_result"
    }
   ],
   "source": [
    "planner_tool.invoke(\n",
    "    {\n",
    "        'query_type': 'all', \n",
    "        'from': 'paris',\n",
    "        'to': 'lisbon',\n",
    "        'options': [],\n",
    "        'results': None,\n",
    "    }\n",
    ")"
   ]
  },
  {
   "cell_type": "markdown",
   "id": "c3363f7d",
   "metadata": {},
   "source": [
    "### Using an LLM and function calling"
   ]
  },
  {
   "cell_type": "code",
   "execution_count": 4,
   "id": "68709aa2",
   "metadata": {},
   "outputs": [
    {
     "data": {
      "text/plain": [
       "True"
      ]
     },
     "execution_count": 4,
     "metadata": {},
     "output_type": "execute_result"
    }
   ],
   "source": [
    "#!pip install python-dotenv\n",
    "\n",
    "from dotenv import find_dotenv\n",
    "from dotenv import load_dotenv\n",
    "\n",
    "load_dotenv(find_dotenv(), override=True)"
   ]
  },
  {
   "cell_type": "code",
   "execution_count": 5,
   "id": "3ce4479d",
   "metadata": {},
   "outputs": [],
   "source": [
    "#!pip install langchain-openai\n",
    "\n",
    "from langchain_openai import ChatOpenAI\n",
    "from langchain_core.messages import HumanMessage\n",
    "\n",
    "llm = ChatOpenAI(model=\"gpt-4o-mini\")\n",
    "llm_with_tools = llm.bind_tools([planner_tool])"
   ]
  },
  {
   "cell_type": "code",
   "execution_count": 6,
   "id": "86d79c1c",
   "metadata": {},
   "outputs": [
    {
     "name": "stdout",
     "output_type": "stream",
     "text": [
      "Here are the travel options from Paris to Lisbon:\n",
      "\n",
      "1. **Route**: Paris → Rome → Barcelona → Madrid → Lisbon\n",
      "   - **Total Travel Time**: 11 hours\n",
      "   - **Transport Options**:\n",
      "     - Plane: 2 hours (Cost: 180€)\n",
      "     - Plane: 2 hours (Cost: 140€)\n",
      "     - Train: 3 hours (Cost: 80€)\n",
      "     - Train: 4 hours (Cost: 90€)\n",
      "   - **Total Cost**: 490€\n",
      "\n",
      "2. **Route**: Paris → Barcelona → Madrid → Lisbon\n",
      "   - **Total Travel Time**: 8.5 hours\n",
      "   - **Transport Options**:\n",
      "     - Plane: 1.5 hours (Cost: 120€)\n",
      "     - Train: 3 hours (Cost: 80€)\n",
      "     - Train: 4 hours (Cost: 90€)\n",
      "   - **Total Cost**: 290€\n",
      "\n",
      "3. **Route**: Paris → Madrid → Lisbon\n",
      "   - **Total Travel Time**: 6 hours\n",
      "   - **Transport Options**:\n",
      "     - Train: 2 hours (Cost: 150€)\n",
      "     - Train: 4 hours (Cost: 90€)\n",
      "   - **Total Cost**: 240€\n",
      "\n",
      "You can choose the option that best suits your schedule and budget!\n"
     ]
    }
   ],
   "source": [
    "tries = 1\n",
    "while tries <= 10:\n",
    "    try:\n",
    "        messages = [HumanMessage(\"I want to tavel from Paris to Lisbon. What are my options?\")]\n",
    "        response = llm_with_tools.invoke(messages)\n",
    "        if hasattr(response, 'tool_calls'):\n",
    "            messages.append(response)\n",
    "            tool_msg = planner_tool.invoke(response.tool_calls[0])\n",
    "            messages.append(tool_msg)\n",
    "            response = llm_with_tools.invoke(messages)\n",
    "        print(response.content)\n",
    "        break\n",
    "    except:\n",
    "        tries += 1\n",
    "        if tries > 10:\n",
    "            print(\"Could not get an answer\")"
   ]
  },
  {
   "cell_type": "markdown",
   "id": "0f7ce937",
   "metadata": {},
   "source": [
    "### Using an Agent"
   ]
  },
  {
   "cell_type": "code",
   "execution_count": 7,
   "id": "acad8d33",
   "metadata": {
    "scrolled": true
   },
   "outputs": [],
   "source": [
    "from langchain_core.prompts import ChatPromptTemplate\n",
    "from langchain.agents import create_tool_calling_agent, AgentExecutor\n",
    "\n",
    "llm = ChatOpenAI(model=\"gpt-4o-mini\")\n",
    "\n",
    "prompt = ChatPromptTemplate.from_messages(\n",
    "    [\n",
    "        (\"system\", \"You are a helpful assistant\"),\n",
    "        (\"human\", \"{input}\"),\n",
    "        (\"placeholder\", \"{agent_scratchpad}\"),\n",
    "    ]\n",
    ")\n",
    "\n",
    "tools = [planner_tool]\n",
    "\n",
    "agent = create_tool_calling_agent(llm, tools, prompt)\n",
    "\n",
    "agent_executor = AgentExecutor(agent=agent, tools=tools)"
   ]
  },
  {
   "cell_type": "code",
   "execution_count": 8,
   "id": "67de95df",
   "metadata": {},
   "outputs": [
    {
     "name": "stdout",
     "output_type": "stream",
     "text": [
      "Here are your options for traveling from Paris to Lisbon:\n",
      "\n",
      "1. **Route: Paris → Rome → Barcelona → Madrid → Lisbon**\n",
      "   - **Total Travel Time:** 11 hours\n",
      "   - **Transport Options:**\n",
      "     - Plane: 2 hours, €180\n",
      "     - Plane: 2 hours, €140\n",
      "     - Train: 3 hours, €80\n",
      "     - Train: 4 hours, €90\n",
      "   - **Total Cost:** €490\n",
      "\n",
      "2. **Route: Paris → Barcelona → Madrid → Lisbon**\n",
      "   - **Total Travel Time:** 8.5 hours\n",
      "   - **Transport Options:**\n",
      "     - Plane: 1.5 hours, €120\n",
      "     - Train: 3 hours, €80\n",
      "     - Train: 4 hours, €90\n",
      "   - **Total Cost:** €290\n",
      "\n",
      "3. **Route: Paris → Madrid → Lisbon**\n",
      "   - **Total Travel Time:** 6 hours\n",
      "   - **Transport Options:**\n",
      "     - Train: 2 hours, €150\n",
      "     - Train: 4 hours, €90\n",
      "   - **Total Cost:** €240\n",
      "\n",
      "You can choose any of these routes based on your time and budget preferences!\n"
     ]
    }
   ],
   "source": [
    "tries = 1\n",
    "while tries <= 10:\n",
    "    try:\n",
    "        results = agent_executor.invoke({\"input\": \"I want to tavel from Paris to Lisbon. What are my options?\"})\n",
    "        print(results['output'])\n",
    "        break\n",
    "    except:\n",
    "        tries += 1\n",
    "        if tries > 10:\n",
    "            print(\"Could not get an answer\")"
   ]
  },
  {
   "cell_type": "code",
   "execution_count": null,
   "id": "d4fc66ae",
   "metadata": {},
   "outputs": [],
   "source": []
  }
 ],
 "metadata": {
  "kernelspec": {
   "display_name": "Python 3.9 (test-env)",
   "language": "python",
   "name": "test-env"
  },
  "language_info": {
   "codemirror_mode": {
    "name": "ipython",
    "version": 3
   },
   "file_extension": ".py",
   "mimetype": "text/x-python",
   "name": "python",
   "nbconvert_exporter": "python",
   "pygments_lexer": "ipython3",
   "version": "3.9.21"
  }
 },
 "nbformat": 4,
 "nbformat_minor": 5
}
